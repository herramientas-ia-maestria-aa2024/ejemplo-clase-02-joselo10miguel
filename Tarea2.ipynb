{
 "cells": [
  {
   "cell_type": "code",
   "execution_count": 1,
   "id": "f625bc20-11d3-4d57-976f-4bc9fba4cf02",
   "metadata": {},
   "outputs": [],
   "source": [
    "import spacy"
   ]
  },
  {
   "cell_type": "code",
   "execution_count": 2,
   "id": "1e6a65e9-09a5-4da3-9755-432f17982a56",
   "metadata": {},
   "outputs": [],
   "source": [
    "nlp = spacy.load(\"es_core_news_sm\")\n"
   ]
  },
  {
   "cell_type": "code",
   "execution_count": 13,
   "id": "dcb19e75-7908-47bf-aaaf-084ac2052d65",
   "metadata": {},
   "outputs": [],
   "source": [
    "with open (\"discurso.txt\", \"r\", encoding=\"utf-8\") as archivo: texto = archivo.read()"
   ]
  },
  {
   "cell_type": "code",
   "execution_count": 14,
   "id": "93c89938-7c7c-4bbc-95e6-a214344f304e",
   "metadata": {},
   "outputs": [],
   "source": [
    "documento = nlp(texto)"
   ]
  },
  {
   "cell_type": "code",
   "execution_count": 15,
   "id": "24dedbb3-7518-4cd6-a40d-fcab05a9a69e",
   "metadata": {},
   "outputs": [
    {
     "name": "stdout",
     "output_type": "stream",
     "text": [
      "Como ya no estaba matriculado y no tenía clases obligatorias, decidí atender al curso de caligrafía para aprender cómo se hacía.\n",
      "Aprendí cosas sobre el serif y tipografías sans serif, sobre los espacios variables entre letras, sobre qué hace realmente grande a una gran tipografía.\n",
      "Era sutilmente bello, histórica y artísticamente, de una forma que la ciencia no puede capturar, y lo encontré fascinante.\n",
      "Nada de esto tenía ni la más mínima esperanza de aplicación práctica en mi vida.\n",
      "Pero diez años más tarde, cuando estábamos diseñando el primer ordenador Macintosh, todo eso volvió a mí.\n",
      "Y diseñamos el Mac con eso en su esencia.\n",
      "Fue el primer ordenador con tipografías bellas.\n",
      "Si nunca me hubiera dejado caer por aquel curso concreto en la universidad, el Mac jamás habría tenido múltiples tipografías, ni caracteres con espaciado proporcional.\n",
      "Y como Windows no hizo más que copiar el Mac, es probable que ningún ordenador personal los tuviera ahora.\n",
      "Si nunca hubiera decidido dejarlo, no habría entrado en esa clase de caligrafía y los ordenadores personales no tendrían la maravillosa tipografía que poseen.\n",
      "\n"
     ]
    }
   ],
   "source": [
    "for l in documento.sents:\n",
    "    print(l)"
   ]
  },
  {
   "cell_type": "code",
   "execution_count": 27,
   "id": "1bba1d3a-af2b-4e61-a3b1-b4a5ce605708",
   "metadata": {},
   "outputs": [
    {
     "name": "stdout",
     "output_type": "stream",
     "text": [
      "Como ya no estaba matriculado y no tenía clases obligatorias, decidí atender al curso de caligrafía para aprender cómo se hacía.: Contiene 23 elementos.\n",
      "Aprendí cosas sobre el serif y tipografías sans serif, sobre los espacios variables entre letras, sobre qué hace realmente grande a una gran tipografía.: Contiene 27 elementos.\n",
      "Era sutilmente bello, histórica y artísticamente, de una forma que la ciencia no puede capturar, y lo encontré fascinante.: Contiene 23 elementos.\n",
      "Nada de esto tenía ni la más mínima esperanza de aplicación práctica en mi vida.: Contiene 16 elementos.\n",
      "Pero diez años más tarde, cuando estábamos diseñando el primer ordenador Macintosh, todo eso volvió a mí.: Contiene 20 elementos.\n",
      "Y diseñamos el Mac con eso en su esencia.: Contiene 10 elementos.\n",
      "Fue el primer ordenador con tipografías bellas.: Contiene 8 elementos.\n",
      "Si nunca me hubiera dejado caer por aquel curso concreto en la universidad, el Mac jamás habría tenido múltiples tipografías, ni caracteres con espaciado proporcional.: Contiene 28 elementos.\n",
      "Y como Windows no hizo más que copiar el Mac, es probable que ningún ordenador personal los tuviera ahora.: Contiene 21 elementos.\n",
      "Si nunca hubiera decidido dejarlo, no habría entrado en esa clase de caligrafía y los ordenadores personales no tendrían la maravillosa tipografía que poseen.\n",
      ": Contiene 27 elementos.\n"
     ]
    }
   ],
   "source": [
    "for l in documento.sents:\n",
    "    # Contar el número de elementos en la oración\n",
    "    num_elementos = len(l)\n",
    "    print(f\"{l}: Contiene {num_elementos} elementos.\")"
   ]
  },
  {
   "cell_type": "code",
   "execution_count": null,
   "id": "f502028f-7d0f-41c1-a412-631c8283cd8f",
   "metadata": {},
   "outputs": [],
   "source": []
  }
 ],
 "metadata": {
  "kernelspec": {
   "display_name": "Python 3 (ipykernel)",
   "language": "python",
   "name": "python3"
  },
  "language_info": {
   "codemirror_mode": {
    "name": "ipython",
    "version": 3
   },
   "file_extension": ".py",
   "mimetype": "text/x-python",
   "name": "python",
   "nbconvert_exporter": "python",
   "pygments_lexer": "ipython3",
   "version": "3.9.0"
  }
 },
 "nbformat": 4,
 "nbformat_minor": 5
}
